{
 "cells": [
  {
   "cell_type": "code",
   "execution_count": 2,
   "metadata": {},
   "outputs": [],
   "source": [
    "from google.cloud import storage\n",
    "import pyspark\n",
    "from pyspark.sql import SparkSession\n"
   ]
  },
  {
   "cell_type": "code",
   "execution_count": 8,
   "metadata": {},
   "outputs": [
    {
     "data": {
      "text/html": [
       "\n",
       "            <div>\n",
       "                <p><b>SparkSession - in-memory</b></p>\n",
       "                \n",
       "        <div>\n",
       "            <p><b>SparkContext</b></p>\n",
       "\n",
       "            <p><a href=\"http://DESKTOP-593946A:4040\">Spark UI</a></p>\n",
       "\n",
       "            <dl>\n",
       "              <dt>Version</dt>\n",
       "                <dd><code>v3.4.1</code></dd>\n",
       "              <dt>Master</dt>\n",
       "                <dd><code>local</code></dd>\n",
       "              <dt>AppName</dt>\n",
       "                <dd><code>Spark Test</code></dd>\n",
       "            </dl>\n",
       "        </div>\n",
       "        \n",
       "            </div>\n",
       "        "
      ],
      "text/plain": [
       "<pyspark.sql.session.SparkSession at 0x21506bb6c50>"
      ]
     },
     "execution_count": 8,
     "metadata": {},
     "output_type": "execute_result"
    }
   ],
   "source": [
    "spark = SparkSession.builder.appName('test').getOrCreate()\n",
    "spark"
   ]
  },
  {
   "cell_type": "code",
   "execution_count": 13,
   "metadata": {},
   "outputs": [],
   "source": [
    "df = spark.read.json('restaurants.json')"
   ]
  },
  {
   "cell_type": "code",
   "execution_count": 14,
   "metadata": {},
   "outputs": [
    {
     "name": "stdout",
     "output_type": "stream",
     "text": [
      "+--------------------+-------------+--------------------+--------------------+--------------------+-------------+\n",
      "|             address|      borough|             cuisine|              grades|                name|restaurant_id|\n",
      "+--------------------+-------------+--------------------+--------------------+--------------------+-------------+\n",
      "|{1007, {[-73.8560...|        Bronx|              Bakery|[{{1393804800000}...|Morris Park Bake ...|     30075445|\n",
      "|{469, {[-73.96170...|     Brooklyn|          Hamburgers|[{{1419897600000}...|             Wendy'S|     30112340|\n",
      "|{351, {[-73.98513...|    Manhattan|               Irish|[{{1409961600000}...|Dj Reynolds Pub A...|     30191841|\n",
      "|{2780, {[-73.9824...|     Brooklyn|           American |[{{1402358400000}...|     Riviera Caterer|     40356018|\n",
      "|{97-22, {[-73.860...|       Queens|       Jewish/Kosher|[{{1416787200000}...|  Tov Kosher Kitchen|     40356068|\n",
      "|{8825, {[-73.8803...|       Queens|           American |[{{1416009600000}...|Brunos On The Bou...|     40356151|\n",
      "|{2206, {[-74.1377...|Staten Island|       Jewish/Kosher|[{{1412553600000}...|       Kosher Island|     40356442|\n",
      "|{7114, {[-73.9068...|     Brooklyn|        Delicatessen|[{{1401321600000}...|  Wilken'S Fine Food|     40356483|\n",
      "|{6409, {[-74.0052...|     Brooklyn|           American |[{{1405641600000}...|     Regina Caterers|     40356649|\n",
      "|{1839, {[-73.9482...|     Brooklyn|Ice Cream, Gelato...|[{{1405296000000}...|Taste The Tropics...|     40356731|\n",
      "|{2300, {[-73.8786...|        Bronx|           American |[{{1401235200000}...|           Wild Asia|     40357217|\n",
      "|{7715, {[-73.9973...|     Brooklyn|           American |[{{1397606400000}...|C & C Catering Se...|     40357437|\n",
      "|{1269, {[-73.8711...|     Brooklyn|             Chinese|[{{1410825600000}...|     May May Kitchen|     40358429|\n",
      "|{1, {[-73.9692690...|    Manhattan|           American |[{{1399420800000}...|1 East 66Th Stree...|     40359480|\n",
      "|{705, {[-73.96539...|     Brooklyn|       Jewish/Kosher|[{{1415577600000}...|         Seuda Foods|     40360045|\n",
      "|{203, {[-73.97822...|     Brooklyn|Ice Cream, Gelato...|[{{1391990400000}...|    Carvel Ice Cream|     40360076|\n",
      "|{265-15, {[-73.70...|       Queens|Ice Cream, Gelato...|[{{1414454400000}...|    Carvel Ice Cream|     40361322|\n",
      "|{6909, {[-74.0259...|     Brooklyn|        Delicatessen|[{{1408579200000}...|   Nordic Delicacies|     40361390|\n",
      "|{522, {[-73.95171...|    Manhattan|           American |[{{1409616000000}...|       Glorious Food|     40361521|\n",
      "|{284, {[-73.98292...|     Brooklyn|           American |[{{1416355200000}...|   The Movable Feast|     40361606|\n",
      "+--------------------+-------------+--------------------+--------------------+--------------------+-------------+\n",
      "only showing top 20 rows\n",
      "\n"
     ]
    }
   ],
   "source": [
    "df.show()"
   ]
  },
  {
   "cell_type": "code",
   "execution_count": 15,
   "metadata": {},
   "outputs": [
    {
     "name": "stdout",
     "output_type": "stream",
     "text": [
      "root\n",
      " |-- address: struct (nullable = true)\n",
      " |    |-- building: string (nullable = true)\n",
      " |    |-- coord: struct (nullable = true)\n",
      " |    |    |-- coordinates: array (nullable = true)\n",
      " |    |    |    |-- element: double (containsNull = true)\n",
      " |    |    |-- type: string (nullable = true)\n",
      " |    |-- street: string (nullable = true)\n",
      " |    |-- zipcode: string (nullable = true)\n",
      " |-- borough: string (nullable = true)\n",
      " |-- cuisine: string (nullable = true)\n",
      " |-- grades: array (nullable = true)\n",
      " |    |-- element: struct (containsNull = true)\n",
      " |    |    |-- date: struct (nullable = true)\n",
      " |    |    |    |-- $date: long (nullable = true)\n",
      " |    |    |-- grade: string (nullable = true)\n",
      " |    |    |-- score: long (nullable = true)\n",
      " |-- name: string (nullable = true)\n",
      " |-- restaurant_id: string (nullable = true)\n",
      "\n"
     ]
    }
   ],
   "source": [
    "df.printSchema()"
   ]
  },
  {
   "cell_type": "code",
   "execution_count": null,
   "metadata": {},
   "outputs": [],
   "source": []
  }
 ],
 "metadata": {
  "kernelspec": {
   "display_name": "venv",
   "language": "python",
   "name": "python3"
  },
  "language_info": {
   "codemirror_mode": {
    "name": "ipython",
    "version": 3
   },
   "file_extension": ".py",
   "mimetype": "text/x-python",
   "name": "python",
   "nbconvert_exporter": "python",
   "pygments_lexer": "ipython3",
   "version": "3.11.4"
  },
  "orig_nbformat": 4
 },
 "nbformat": 4,
 "nbformat_minor": 2
}
