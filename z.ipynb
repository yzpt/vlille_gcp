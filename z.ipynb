{
 "cells": [
  {
   "cell_type": "code",
   "execution_count": 1,
   "metadata": {},
   "outputs": [],
   "source": [
    "from google.cloud import bigquery\n",
    "from google.cloud import storage\n",
    "import os\n",
    "\n",
    "\n",
    "os.environ[\"GOOGLE_APPLICATION_CREDENTIALS\"] = 'keyfile-zapart-data-vlille.json'\n",
    "client = bigquery.Client()"
   ]
  },
  {
   "cell_type": "code",
   "execution_count": 5,
   "metadata": {},
   "outputs": [
    {
     "name": "stdout",
     "output_type": "stream",
     "text": [
      "<google.cloud.bigquery.table._EmptyRowIterator object at 0x00000217F0D64990>\n"
     ]
    }
   ],
   "source": [
    "\n",
    "query = \"\"\"\n",
    "-- Query to transform the raw data in the BigQuery table vlille_dataset.raw_records to the BigQuery table vlille_dataset.records_from_raw :\n",
    "CREATE OR REPLACE TABLE `zapart-data-vlille.vlille_dataset.records_from_raw` AS\n",
    "WITH transformed_data AS (\n",
    "  SELECT\n",
    "    CAST(records.fields.libelle AS INT64) AS station_id,\n",
    "    records.fields.etat AS etat,\n",
    "    records.fields.nbvelosdispo AS nb_velos_dispo,\n",
    "    records.fields.nbplacesdispo AS nb_places_dispo,\n",
    "    records.fields.etatconnexion AS etat_connexion,\n",
    "    TIMESTAMP(records.fields.datemiseajour) AS derniere_maj,\n",
    "    TIMESTAMP(records.record_timestamp) AS record_timestamp\n",
    "  FROM\n",
    "    `zapart-data-vlille.vlille_dataset.raw_records`, UNNEST(records) AS records\n",
    ")\n",
    "SELECT * FROM transformed_data;\n",
    "\"\"\"\n",
    "\n",
    "\n",
    "results = client.query(query).result()\n",
    "print(results)\n"
   ]
  },
  {
   "cell_type": "code",
   "execution_count": null,
   "metadata": {},
   "outputs": [],
   "source": []
  }
 ],
 "metadata": {
  "kernelspec": {
   "display_name": "Python 3",
   "language": "python",
   "name": "python3"
  },
  "language_info": {
   "codemirror_mode": {
    "name": "ipython",
    "version": 3
   },
   "file_extension": ".py",
   "mimetype": "text/x-python",
   "name": "python",
   "nbconvert_exporter": "python",
   "pygments_lexer": "ipython3",
   "version": "3.11.4"
  }
 },
 "nbformat": 4,
 "nbformat_minor": 2
}
