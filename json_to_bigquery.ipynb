{
 "cells": [
  {
   "cell_type": "code",
   "execution_count": 1,
   "metadata": {},
   "outputs": [],
   "source": [
    "import json\n",
    "f = open('json_file.json')\n",
    "# get the json structure of the file f\n",
    "data = json.load(f)\n",
    "\n",
    "# print the json structure of the file f\n",
    "d=data"
   ]
  },
  {
   "cell_type": "code",
   "execution_count": 1,
   "metadata": {},
   "outputs": [],
   "source": [
    "from google.cloud import bigquery\n",
    "\n",
    "# Initialiser le client BigQuery\n",
    "client = bigquery.Client(project=\"vlille-396911\")"
   ]
  },
  {
   "cell_type": "code",
   "execution_count": 89,
   "metadata": {},
   "outputs": [],
   "source": [
    "# suppression de la table\n",
    "client.delete_table('vlille-396911.vlille_dataset.vlille_table', not_found_ok=True)  # Make an API request."
   ]
  },
  {
   "cell_type": "code",
   "execution_count": 90,
   "metadata": {},
   "outputs": [
    {
     "name": "stdout",
     "output_type": "stream",
     "text": [
      "Table créée avec succès: vlille_table\n"
     ]
    }
   ],
   "source": [
    "# Définissez le schéma de la table\n",
    "schema = [\n",
    "    bigquery.SchemaField(\"recordid\", \"STRING\"),\n",
    "    bigquery.SchemaField(\"nbvelosdispo\", \"INT64\"),\n",
    "    bigquery.SchemaField(\"nbplacesdispo\", \"INT64\"),\n",
    "    bigquery.SchemaField(\"libelle\", \"INT64\"),\n",
    "    bigquery.SchemaField(\"adresse\", \"STRING\"),\n",
    "    bigquery.SchemaField(\"nom\", \"STRING\"),\n",
    "    bigquery.SchemaField(\"etat\", \"STRING\"),\n",
    "    bigquery.SchemaField(\"commune\", \"STRING\"),\n",
    "    bigquery.SchemaField(\"etatconnexion\", \"STRING\"),\n",
    "    bigquery.SchemaField(\"type\", \"STRING\"),\n",
    "    bigquery.SchemaField(\"longitude\", \"FLOAT64\"),\n",
    "    bigquery.SchemaField(\"latitude\", \"FLOAT64\"),\n",
    "    bigquery.SchemaField(\"datemiseajour\", \"TIMESTAMP\"),\n",
    "    bigquery.SchemaField(\"record_timestamp\", \"TIMESTAMP\")\n",
    "]\n",
    "\n",
    "# Créez la table avec le schéma spécifié\n",
    "table_id = \"vlille-396911.vlille_dataset.vlille_table\"\n",
    "table = bigquery.Table(table_id, schema=schema)\n",
    "table = client.create_table(table)\n",
    "\n",
    "print(\"Table créée avec succès:\", table.table_id)\n"
   ]
  },
  {
   "cell_type": "code",
   "execution_count": 69,
   "metadata": {},
   "outputs": [
    {
     "name": "stdout",
     "output_type": "stream",
     "text": [
      "    tableId      Type    Labels   Time Partitioning   Clustered Fields  \n",
      " -------------- ------- -------- ------------------- ------------------ \n",
      "  allo           TABLE                                                  \n",
      "  vlille_table   TABLE                                                  \n"
     ]
    }
   ],
   "source": [
    "!bq ls vlille_dataset"
   ]
  },
  {
   "cell_type": "code",
   "execution_count": 81,
   "metadata": {},
   "outputs": [],
   "source": [
    "data_to_insert = []\n",
    "\n",
    "for record in data['records']:\n",
    "    row = {\n",
    "        \"recordid\": record['recordid'],\n",
    "        \"record_timestamp\": record['record_timestamp'],\n",
    "        \"nbvelosdispo\": record['fields']['nbvelosdispo'],\n",
    "        \"nbplacesdispo\": record['fields']['nbplacesdispo'],\n",
    "        \"libelle\": record['fields']['libelle'],\n",
    "        \"adresse\": record['fields']['adresse'],\n",
    "        \"nom\": record['fields']['nom'],\n",
    "        \"etat\": record['fields']['etat'],\n",
    "        \"commune\": record['fields']['commune'],\n",
    "        \"etatconnexion\": record['fields']['etatconnexion'],\n",
    "        \"type\": record['fields']['type'],\n",
    "        \"longitude\": record['fields']['localisation'][0],\n",
    "        \"latitude\": record['fields']['localisation'][1],\n",
    "        \"datemiseajour\": record['fields']['datemiseajour']\n",
    "    }\n",
    "\n",
    "    data_to_insert.append(row)"
   ]
  },
  {
   "cell_type": "code",
   "execution_count": 2,
   "metadata": {},
   "outputs": [],
   "source": [
    "dataset_id = 'vlille_dataset'\n",
    "table_id = 'vlille_table'\n",
    "table_ref = client.dataset(dataset_id).table(table_id)\n",
    "table = client.get_table(table_ref)  # API call"
   ]
  },
  {
   "cell_type": "code",
   "execution_count": 73,
   "metadata": {},
   "outputs": [
    {
     "name": "stdout",
     "output_type": "stream",
     "text": [
      "Data inserted successfully.\n"
     ]
    }
   ],
   "source": [
    "errors = client.insert_rows(table, data_to_insert)  # API request\n",
    "if errors == []:\n",
    "    print(\"Data inserted successfully.\")\n",
    "else:\n",
    "    print(\"Encountered errors while inserting rows:\", errors)"
   ]
  },
  {
   "cell_type": "code",
   "execution_count": 88,
   "metadata": {},
   "outputs": [
    {
     "data": {
      "text/plain": [
       "[]"
      ]
     },
     "execution_count": 88,
     "metadata": {},
     "output_type": "execute_result"
    }
   ],
   "source": [
    "client.insert_rows(table, data_to_insert)"
   ]
  },
  {
   "cell_type": "code",
   "execution_count": 3,
   "metadata": {},
   "outputs": [
    {
     "name": "stdout",
     "output_type": "stream",
     "text": [
      "132940\n"
     ]
    }
   ],
   "source": [
    "query = f'SELECT * FROM `{dataset_id}.{table_id}` ORDER BY `datemiseajour`'\n",
    "query_job = client.query(query)  # API request\n",
    "results = query_job.result()  # Waits for query to finish\n",
    "# for row in results:\n",
    "#     print(row)\n",
    "print(results.total_rows)"
   ]
  },
  {
   "cell_type": "code",
   "execution_count": null,
   "metadata": {},
   "outputs": [],
   "source": []
  }
 ],
 "metadata": {
  "kernelspec": {
   "display_name": "Python 3",
   "language": "python",
   "name": "python3"
  },
  "language_info": {
   "codemirror_mode": {
    "name": "ipython",
    "version": 3
   },
   "file_extension": ".py",
   "mimetype": "text/x-python",
   "name": "python",
   "nbconvert_exporter": "python",
   "pygments_lexer": "ipython3",
   "version": "3.11.4"
  },
  "orig_nbformat": 4
 },
 "nbformat": 4,
 "nbformat_minor": 2
}
