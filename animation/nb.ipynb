{
 "cells": [
  {
   "cell_type": "code",
   "execution_count": 9,
   "metadata": {},
   "outputs": [],
   "source": [
    "from google.cloud import bigquery\n",
    "from datetime import datetime, timedelta\n",
    "import pandas as pd\n",
    "import os\n",
    "\n",
    "os.environ[\"GOOGLE_APPLICATION_CREDENTIALS\"] = \"../key-vlille-gcp.json\"\n",
    "\n",
    "client = bigquery.Client()"
   ]
  },
  {
   "cell_type": "code",
   "execution_count": 39,
   "metadata": {},
   "outputs": [],
   "source": [
    "query = \"\"\"\n",
    "select \n",
    "  TIMESTAMP_ADD(record_timestamp, INTERVAL 2 HOUR) AS record_timestamp_ptz,\n",
    "  latitude, longitude,\n",
    "  (nb_velos_dispo/ (nb_velos_dispo + nb_places_dispo)) as taux_velos_dispo\n",
    "from \n",
    "  `vlille_gcp_dataset.records`, `vlille_gcp_dataset.stations`\n",
    "WHERE \n",
    "  id = station_id\n",
    "  AND record_timestamp >= TIMESTAMP_SUB('2023-10-20', INTERVAL 2 HOUR)\n",
    "  AND record_timestamp < TIMESTAMP_SUB('2023-10-20', INTERVAL 1 HOUR)\n",
    "  AND etat = 'EN SERVICE'\n",
    "ORDER BY\n",
    "  record_timestamp_ptz ASC\n",
    "\"\"\"\n",
    "\n",
    "query_job = client.query(query)\n",
    "rows = query_job.result()"
   ]
  },
  {
   "cell_type": "code",
   "execution_count": 40,
   "metadata": {},
   "outputs": [],
   "source": [
    "data = [(row.record_timestamp_ptz, row.latitude, row.longitude, row.taux_velos_dispo) for row in rows]\n",
    "df = pd.DataFrame(data, columns=['record_timestamp_ptz', 'latitude', 'longitude', 'taux_velos_dispo'])"
   ]
  },
  {
   "cell_type": "code",
   "execution_count": 41,
   "metadata": {},
   "outputs": [],
   "source": [
    "# group the df by record_timestamp_ptz\n",
    "df = df.groupby('record_timestamp_ptz').agg({\n",
    "    'latitude': lambda x: list(x),\n",
    "    'longitude': lambda x: list(x),\n",
    "    'taux_velos_dispo': lambda x: list(x)\n",
    "})"
   ]
  },
  {
   "cell_type": "code",
   "execution_count": 44,
   "metadata": {},
   "outputs": [],
   "source": [
    "df.index = pd.to_datetime(df.index)"
   ]
  },
  {
   "cell_type": "code",
   "execution_count": 46,
   "metadata": {},
   "outputs": [],
   "source": [
    "df.index = df.index.strftime('%Y-%m-%d %H:%M')"
   ]
  },
  {
   "cell_type": "code",
   "execution_count": 55,
   "metadata": {},
   "outputs": [],
   "source": [
    "# convert the index to datetimeindex\n",
    "df.index = pd.to_datetime(df.index)"
   ]
  },
  {
   "cell_type": "code",
   "execution_count": 56,
   "metadata": {},
   "outputs": [],
   "source": [
    "# for each timestamp index of the df, if the next index is more than 1 minute away, add a new row with the same data and the next timestamp (1min added)\n",
    "df = df.resample('1min').ffill()"
   ]
  },
  {
   "cell_type": "code",
   "execution_count": null,
   "metadata": {},
   "outputs": [],
   "source": [
    "df.index = df.index.strftime('%Y-%m-%d %H:%M')"
   ]
  },
  {
   "cell_type": "code",
   "execution_count": 58,
   "metadata": {},
   "outputs": [],
   "source": [
    "df.to_json('data.json', orient='index')"
   ]
  },
  {
   "cell_type": "code",
   "execution_count": null,
   "metadata": {},
   "outputs": [],
   "source": []
  }
 ],
 "metadata": {
  "kernelspec": {
   "display_name": "Python 3",
   "language": "python",
   "name": "python3"
  },
  "language_info": {
   "codemirror_mode": {
    "name": "ipython",
    "version": 3
   },
   "file_extension": ".py",
   "mimetype": "text/x-python",
   "name": "python",
   "nbconvert_exporter": "python",
   "pygments_lexer": "ipython3",
   "version": "3.11.4"
  }
 },
 "nbformat": 4,
 "nbformat_minor": 2
}
