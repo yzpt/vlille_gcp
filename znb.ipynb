{
 "cells": [
  {
   "cell_type": "code",
   "execution_count": 6,
   "metadata": {},
   "outputs": [],
   "source": [
    "import json\n",
    "\n",
    "with open('data/data_file_example.json') as f:\n",
    "    data = json.load(f)"
   ]
  },
  {
   "cell_type": "code",
   "execution_count": 10,
   "metadata": {},
   "outputs": [
    {
     "data": {
      "text/plain": [
       "{'datasetid': 'vlille-realtime',\n",
       " 'recordid': '30dbe8287bbc3774c77c455b9fd901b1a8fc5f92',\n",
       " 'fields': {'nbvelosdispo': 0,\n",
       "  'nbplacesdispo': 0,\n",
       "  'libelle': 136,\n",
       "  'adresse': 'RUE CHAMBORD',\n",
       "  'nom': 'RUE CHAMBORD',\n",
       "  'etat': 'RÉFORMÉ',\n",
       "  'commune': \"VILLENEUVE D'ASCQ\",\n",
       "  'etatconnexion': 'DÉCONNECTÉ',\n",
       "  'type': 'SANS TPE',\n",
       "  'geo': [50.62972, 3.133873],\n",
       "  'localisation': [50.62972, 3.133873],\n",
       "  'datemiseajour': '2022-11-29T10:47:16+01:00'},\n",
       " 'geometry': {'type': 'Point', 'coordinates': [3.133873, 50.62972]},\n",
       " 'record_timestamp': '2023-08-24T21:28:01.077+02:00'}"
      ]
     },
     "execution_count": 10,
     "metadata": {},
     "output_type": "execute_result"
    }
   ],
   "source": [
    "data['records'][0]"
   ]
  },
  {
   "cell_type": "code",
   "execution_count": null,
   "metadata": {},
   "outputs": [],
   "source": []
  }
 ],
 "metadata": {
  "kernelspec": {
   "display_name": "Python 3",
   "language": "python",
   "name": "python3"
  },
  "language_info": {
   "codemirror_mode": {
    "name": "ipython",
    "version": 3
   },
   "file_extension": ".py",
   "mimetype": "text/x-python",
   "name": "python",
   "nbconvert_exporter": "python",
   "pygments_lexer": "ipython3",
   "version": "3.11.4"
  },
  "orig_nbformat": 4
 },
 "nbformat": 4,
 "nbformat_minor": 2
}
